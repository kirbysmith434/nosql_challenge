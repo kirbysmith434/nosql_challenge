{
 "cells": [
  {
   "cell_type": "code",
   "execution_count": 4,
   "id": "7d94c7c3",
   "metadata": {},
   "outputs": [
    {
     "name": "stdout",
     "output_type": "stream",
     "text": [
      "Connected to 'uk_food' database.\n",
      "Sample Document:\n",
      "None\n"
     ]
    }
   ],
   "source": [
    "# Import dependencies\n",
    "from pymongo import MongoClient\n",
    "from pprint import pprint\n",
    "\n",
    "# Create an instance of MongoClient\n",
    "mongo = MongoClient(port=27017)\n",
    "\n",
    "# Explicitly create the 'uk_food' database\n",
    "db = mongo['uk_food']\n",
    "\n",
    "# Access the 'uk_food' database\n",
    "print(\"Connected to 'uk_food' database.\")\n",
    "\n",
    "# Access the 'establishments' collection\n",
    "establishments = db['establishments']\n",
    "\n",
    "# Find and display one document using find_one and pprint\n",
    "sample_document = establishments.find_one()\n",
    "print(\"Sample Document:\")\n",
    "pprint(sample_document)\n"
   ]
  },
  {
   "cell_type": "code",
   "execution_count": null,
   "id": "6bcb6c5a",
   "metadata": {},
   "outputs": [],
   "source": []
  }
 ],
 "metadata": {
  "kernelspec": {
   "display_name": "Python 3 (ipykernel)",
   "language": "python",
   "name": "python3"
  },
  "language_info": {
   "codemirror_mode": {
    "name": "ipython",
    "version": 3
   },
   "file_extension": ".py",
   "mimetype": "text/x-python",
   "name": "python",
   "nbconvert_exporter": "python",
   "pygments_lexer": "ipython3",
   "version": "3.10.13"
  }
 },
 "nbformat": 4,
 "nbformat_minor": 5
}
